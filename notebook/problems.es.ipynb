{
 "cells": [
  {
   "cell_type": "markdown",
   "id": "a41f3622",
   "metadata": {},
   "source": [
    "# Ejercicios de probabilidad"
   ]
  },
  {
   "cell_type": "markdown",
   "id": "a6bdbd89",
   "metadata": {},
   "source": [
    "## Ejercicio 1 \n",
    "\n",
    "Dos dados se lanzan una vez y se observa el total obtenido. Usa una simulación para encontrar la probabilidad estimada de que la puntuación sea mayor a 7 o un número par. Una simulación es una repetición del mismo experimento multiples veces para observar su comportamiento:\n",
    "\n",
    "- Ejecuta el experimento 1000 veces (lanza 2 dados 1000 veces, y suma el número de ambos dados).\n",
    "- Lleva ua cuenta de los números y las veces que la suma fue mayor a 7 o un número par.\n",
    "- Divide el número del paso 2 entre el número de iteraciones(1000)."
   ]
  },
  {
   "cell_type": "code",
   "execution_count": 2,
   "id": "8939d892",
   "metadata": {},
   "outputs": [
    {
     "name": "stdout",
     "output_type": "stream",
     "text": [
      "0.674\n"
     ]
    }
   ],
   "source": [
    "# TODO\n",
    "#ELEMENTS:dado 1 y dado 2 - EVENT/SUCESO:tirar dados - ACCIÓN??:sumar resultado caras - ESTRUCTURA DE DECICIÓN;CONDICIÓ:comprobar si es mayor a 7 o num par (si evento es vdd o no) - PROBABILILDADES: cuantas veces evento es TRUE \n",
    "#lanzamiento:Cuantas veces se repite el evento/suceso\n",
    "#cuenta_evento: contador que acumula el resultado de la acción\n",
    "# probabilidad: % de las veces de que la suma de los dados en cada tirada sea mayor a 7 o numero par. \n",
    "import numpy as np\n",
    "lanzamiento = 1000\n",
    "cuenta_evento = 0\n",
    "for i in range(lanzamiento):\n",
    "    dado_1= np.random.randint(1,7)\n",
    "    dado_2= np.random.randint(1,7)\n",
    "    sum = dado_1 + dado_2 \n",
    "    \n",
    "    if sum%2==0 or sum >7:\n",
    "        cuenta_evento+=1\n",
    "\n",
    "probabilidad=cuenta_evento / lanzamiento\n",
    "\n",
    "print(probabilidad)"
   ]
  },
  {
   "cell_type": "markdown",
   "id": "55732bca",
   "metadata": {},
   "source": [
    "## Ejercicio 2\n",
    "\n",
    "Una caja contiene 10 bolas blancas, 20 bolas rojas y 30 bolas verdes. Si tomamos 5 bolas de la caja reemplazándolas (tomando una bola, anotando el color y luego regresandola a la caja). Queremos saber la probabilidad de:\n",
    "\n",
    "1. Tomar 3 blancas y 2 rojas.\n",
    "2. Toas todas del mismo color.\n",
    "\n",
    "Ejecuta el experimento 1000 veces y calcula las probabilidades que mencionadas."
   ]
  },
  {
   "cell_type": "code",
   "execution_count": 3,
   "id": "23244d20",
   "metadata": {},
   "outputs": [
    {
     "name": "stdout",
     "output_type": "stream",
     "text": [
      "{0: 'White', 1: 'White', 2: 'White', 3: 'White', 4: 'White', 5: 'White', 6: 'White', 7: 'White', 8: 'White', 9: 'White', 10: 'Red', 11: 'Red', 12: 'Red', 13: 'Red', 14: 'Red', 15: 'Red', 16: 'Red', 17: 'Red', 18: 'Red', 19: 'Red', 20: 'Red', 21: 'Red', 22: 'Red', 23: 'Red', 24: 'Red', 25: 'Red', 26: 'Red', 27: 'Red', 28: 'Red', 29: 'Red', 30: 'Green', 31: 'Green', 32: 'Green', 33: 'Green', 34: 'Green', 35: 'Green', 36: 'Green', 37: 'Green', 38: 'Green', 39: 'Green', 40: 'Green', 41: 'Green', 42: 'Green', 43: 'Green', 44: 'Green', 45: 'Green', 46: 'Green', 47: 'Green', 48: 'Green', 49: 'Green', 50: 'Green', 51: 'Green', 52: 'Green', 53: 'Green', 54: 'Green', 55: 'Green', 56: 'Green', 57: 'Green', 58: 'Green', 59: 'Green'}\n",
      "0.3%\n",
      "3.1%\n"
     ]
    }
   ],
   "source": [
    "ball_box = {}\n",
    "#Base num bolas: 10 blancas,20rojas,30verdes - ¿¿¿Reemplandolas porque??? 5 bolas; Dos casos distintos: Caso1.Que salgan 3 blancas y 2 rojas, Caso2.Coger todas mismo color\n",
    "#PROBABILIDAD;dos casos: caso1.Coger 3 blancas y 2 rojas, caso2.Todas del mismo color\n",
    "#VARIABLES/ELEMENTS:var1.bolas blancas, var2.bolas blancas, var3.bolas verdes - ACCIÓN: - ESTRUCTURAS REPETICIÓN Y DECISIÓN: - \n",
    "\n",
    "# Crea la cajas con las bolas;Bucle:ESTRUCTURA DE REPETICIÓN con Condicional:ESTRUCTURA DE DECISIÓN\n",
    "for i in range(60):\n",
    "    if i < 10:\n",
    "        ball_box[i] = \"White\"\n",
    "    elif (i > 9) and (i < 30):\n",
    "        ball_box[i] = \"Red\"\n",
    "    else:\n",
    "        ball_box[i] = \"Green\"\n",
    "\n",
    "print(ball_box)\n",
    "\n",
    "# TODO\n",
    "import numpy as np\n",
    "import random\n",
    "\n",
    "def take_balls(n_iterations=1000):\n",
    "    count_experiment_1 = 0\n",
    "    count_experiment_2 = 0\n",
    "\n",
    "    for i in range(n_iterations):\n",
    "        colors = []\n",
    "\n",
    "        # Take 5 balls from the box\n",
    "        for i in range(5):\n",
    "            colors.append(ball_box[np.random.randint(0, 59)])\n",
    "\n",
    "        # Mete las 5 bolas de la caja las guarda en array\n",
    "        colors = np.array(colors)\n",
    "       #suma cantidad de bolas de cada color \n",
    "        white_balls = sum(colors == \"White\")\n",
    "        red_balls = sum(colors == \"Red\")\n",
    "        green_balls = sum(colors == \"Green\")\n",
    "\n",
    "        # Mira cuantas bolas y de que color para entrar en un condicional\n",
    "        #experiment1:\n",
    "        if (white_balls == 3) and (red_balls == 2):\n",
    "            count_experiment_1 += 1\n",
    "        \n",
    "        #experiment2:\n",
    "        if (white_balls == 5) or (red_balls == 5) or (green_balls == 5):\n",
    "            count_experiment_2 += 1\n",
    "    \n",
    "    return count_experiment_1 / n_iterations, count_experiment_2 / n_iterations\n",
    "\n",
    "probabilidades = take_balls()\n",
    "porcentaje_expermento_1= np.round(probabilidades[0] * 100, 2)\n",
    "porcentaje_expermento_2= np.round(probabilidades[1] * 100, 2)\n",
    "\n",
    "\n",
    "print(f\"{porcentaje_expermento_1}%\")\n",
    "print(f\"{porcentaje_expermento_2}%\")\n"
   ]
  }
 ],
 "metadata": {
  "kernelspec": {
   "display_name": "Python 3",
   "language": "python",
   "name": "python3"
  },
  "language_info": {
   "codemirror_mode": {
    "name": "ipython",
    "version": 3
   },
   "file_extension": ".py",
   "mimetype": "text/x-python",
   "name": "python",
   "nbconvert_exporter": "python",
   "pygments_lexer": "ipython3",
   "version": "3.11.4"
  }
 },
 "nbformat": 4,
 "nbformat_minor": 5
}
