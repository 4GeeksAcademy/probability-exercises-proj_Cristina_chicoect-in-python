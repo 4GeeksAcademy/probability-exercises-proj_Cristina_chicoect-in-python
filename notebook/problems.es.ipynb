{
 "cells": [
  {
   "cell_type": "markdown",
   "id": "a41f3622",
   "metadata": {},
   "source": [
    "# Ejercicios de probabilidad"
   ]
  },
  {
   "cell_type": "markdown",
   "id": "a6bdbd89",
   "metadata": {},
   "source": [
    "## Ejercicio 1 \n",
    "\n",
    "Dos dados se lanzan una vez y se observa el total obtenido. Usa una simulación para encontrar la probabilidad estimada de que la puntuación sea mayor a 7 o un número par. Una simulación es una repetición del mismo experimento multiples veces para observar su comportamiento:\n",
    "\n",
    "- Ejecuta el experimento 1000 veces (lanza 2 dados 1000 veces, y suma el número de ambos dados).\n",
    "- Lleva ua cuenta de los números y las veces que la suma fue mayor a 7 o un número par.\n",
    "- Divide el número del paso 2 entre el número de iteraciones(1000)."
   ]
  },
  {
   "cell_type": "code",
   "execution_count": 1,
   "id": "8939d892",
   "metadata": {},
   "outputs": [
    {
     "name": "stdout",
     "output_type": "stream",
     "text": [
      "0.664\n"
     ]
    }
   ],
   "source": [
    "# TODO\n",
    "#ELEMENTS:dado 1 y dado 2 - EVENT/SUCESO:tirar dados - ACCIÓN??:sumar resultado caras - ESTRUCTURA DE DECICIÓN;CONDICIÓ:comprobar si es mayor a 7 o num par (si evento es vdd o no) - PROBABILILDADES: cuantas veces evento es TRUE \n",
    "#lanzamiento:Cuantas veces se repite el evento/suceso\n",
    "#cuenta_evento: contador que acumula el resultado de la acción\n",
    "# probabilidad: % de las veces de que la suma de los dados en cada tirada sea mayor a 7 o numero par. \n",
    "import numpy as np\n",
    "lanzamiento = 1000\n",
    "cuenta_evento = 0\n",
    "for i in range(lanzamiento):\n",
    "    dado_1= np.random.randint(1,7)\n",
    "    dado_2= np.random.randint(1,7)\n",
    "    sum = dado_1 + dado_2 \n",
    "    \n",
    "    if sum%2==0 or sum >7:\n",
    "        cuenta_evento+=1\n",
    "\n",
    "probabilidad=cuenta_evento / lanzamiento\n",
    "\n",
    "print(probabilidad)"
   ]
  },
  {
   "cell_type": "markdown",
   "id": "55732bca",
   "metadata": {},
   "source": [
    "## Ejercicio 2\n",
    "\n",
    "Una caja contiene 10 bolas blancas, 20 bolas rojas y 30 bolas verdes. Si tomamos 5 bolas de la caja reemplazándolas (tomando una bola, anotando el color y luego regresandola a la caja). Queremos saber la probabilidad de:\n",
    "\n",
    "1. Tomar 3 blancas y 2 rojas.\n",
    "2. Toas todas del mismo color.\n",
    "\n",
    "Ejecuta el experimento 1000 veces y calcula las probabilidades que mencionadas."
   ]
  },
  {
   "cell_type": "code",
   "execution_count": 4,
   "id": "23244d20",
   "metadata": {},
   "outputs": [
    {
     "name": "stdout",
     "output_type": "stream",
     "text": [
      "{0: 'White', 1: 'White', 2: 'White', 3: 'White', 4: 'White', 5: 'White', 6: 'White', 7: 'White', 8: 'White', 9: 'White', 10: 'Red', 11: 'Red', 12: 'Red', 13: 'Red', 14: 'Red', 15: 'Red', 16: 'Red', 17: 'Red', 18: 'Red', 19: 'Red', 20: 'Red', 21: 'Red', 22: 'Red', 23: 'Red', 24: 'Red', 25: 'Red', 26: 'Red', 27: 'Red', 28: 'Red', 29: 'Red', 30: 'Green', 31: 'Green', 32: 'Green', 33: 'Green', 34: 'Green', 35: 'Green', 36: 'Green', 37: 'Green', 38: 'Green', 39: 'Green', 40: 'Green', 41: 'Green', 42: 'Green', 43: 'Green', 44: 'Green', 45: 'Green', 46: 'Green', 47: 'Green', 48: 'Green', 49: 'Green', 50: 'Green', 51: 'Green', 52: 'Green', 53: 'Green', 54: 'Green', 55: 'Green', 56: 'Green', 57: 'Green', 58: 'Green', 59: 'Green'}\n"
     ]
    },
    {
     "ename": "TypeError",
     "evalue": "'int' object is not callable",
     "output_type": "error",
     "traceback": [
      "\u001b[0;31m---------------------------------------------------------------------------\u001b[0m",
      "\u001b[0;31mTypeError\u001b[0m                                 Traceback (most recent call last)",
      "Cell \u001b[0;32mIn[4], line 42\u001b[0m\n\u001b[1;32m     39\u001b[0m \u001b[38;5;28;01mdef\u001b[39;00m \u001b[38;5;21mcaluclo_combinatorias\u001b[39m(posiciones,bolas_blancas):\n\u001b[1;32m     40\u001b[0m     \u001b[38;5;28;01mreturn\u001b[39;00m np\u001b[38;5;241m.\u001b[39mmath\u001b[38;5;241m.\u001b[39mfactorial(posiciones) \u001b[38;5;241m/\u001b[39m\u001b[38;5;241m/\u001b[39m (np\u001b[38;5;241m.\u001b[39mmath\u001b[38;5;241m.\u001b[39mfactorial(bolas_blancas)\u001b[38;5;241m*\u001b[39m np\u001b[38;5;241m.\u001b[39mmapth\u001b[38;5;241m.\u001b[39mfactorial(posiciones\u001b[38;5;241m-\u001b[39mbolas_blancas))\n\u001b[0;32m---> 42\u001b[0m \u001b[38;5;28;01mfor\u001b[39;00m i \u001b[38;5;129;01min\u001b[39;00m \u001b[38;5;28mrange\u001b[39m (\u001b[43mexperimentos_num\u001b[49m\u001b[43m(\u001b[49m\u001b[43mposiciones\u001b[49m\u001b[43m,\u001b[49m\u001b[43mbolas_blancas\u001b[49m\u001b[43m)\u001b[49m):\n\u001b[1;32m     43\u001b[0m     combinaciones_true\u001b[38;5;241m=\u001b[39mcaluclo_combinatorias\n\u001b[1;32m     44\u001b[0m     \u001b[38;5;28mprint\u001b[39m(combinaciones_true)\n",
      "\u001b[0;31mTypeError\u001b[0m: 'int' object is not callable"
     ]
    }
   ],
   "source": [
    "ball_box = {}\n",
    "#Base num bolas: 10 blancas,20rojas,30verdes - ¿¿¿Reemplandolas porque??? 5 bolas; Dos casos distintos: Caso1.Que salgan 3 blancas y 2 rojas, Caso2.Coger todas mismo color\n",
    "#PROBABILIDAD;dos casos: caso1.Coger 3 blancas y 2 rojas, caso2.Todas del mismo color\n",
    "#VARIABLES/ELEMENTS:var1.bolas blancas, var2.bolas blancas, var3.bolas verdes - ACCIÓN: - ESTRUCTURAS REPETICIÓN Y DECISIÓN: - \n",
    "\n",
    "# Crea la cajas con las bolas;Bucle:ESTRUCTURA DE REPETICIÓN con Condicional:ESTRUCTURA DE DECISIÓN\n",
    "for i in range(60):\n",
    "    if i < 10:\n",
    "        ball_box[i] = \"White\"\n",
    "    elif i <20:\n",
    "        ball_box[i] = \"Red\"\n",
    "    else:\n",
    "        ball_box[i] = \"Green\"\n",
    "\n",
    "print(ball_box)\n",
    "            \n",
    "# TODO\n",
    "import numpy as np\n",
    "import random\n",
    "\n",
    "#Posiciones son las 5 bolas que cogeremos - Porque?\n",
    "posiciones = 5\n",
    "#Vars para de probabilidades por colores\n",
    "#probabilidades = [10/60,20/60,30/60]\n",
    "colores = ['blanca','roja','verde']\n",
    "#VArs para el calculo combitanorio: \n",
    "bolas_rojas=2\n",
    "bolas_blancas=3\n",
    "#Loop experimentos, 1000 eventos/sucesos\n",
    "def experimento():\n",
    "    posiciones_extracciones= random.choices(colores,probabilidades,k=5)\n",
    "    return posiciones_extracciones\n",
    "\n",
    "# Num de vueltas que da el bucle\n",
    "experimentos_num = 1000\n",
    "\n",
    "# ¿Estoy creando una lista vacía para acumular las posiciones de cada extracción?\n",
    "resultados= []\n",
    "\n",
    "#No entiendo muy bien porque el calculo se escribe así\n",
    "def caluclo_combinatorias(posiciones,bolas_blancas):\n",
    "    return np.math.factorial(posiciones) // (np.math.factorial(bolas_blancas)* np.math.factorial(posiciones-bolas_blancas))\n",
    "\n",
    "\n",
    "for i in range (experimentos_num(posiciones,bolas_blancas)):\n",
    "    combinaciones_true=caluclo_combinatorias\n",
    "    print(combinaciones_true)\n",
    "\n"
   ]
  }
 ],
 "metadata": {
  "kernelspec": {
   "display_name": "Python 3",
   "language": "python",
   "name": "python3"
  },
  "language_info": {
   "codemirror_mode": {
    "name": "ipython",
    "version": 3
   },
   "file_extension": ".py",
   "mimetype": "text/x-python",
   "name": "python",
   "nbconvert_exporter": "python",
   "pygments_lexer": "ipython3",
   "version": "3.11.4"
  }
 },
 "nbformat": 4,
 "nbformat_minor": 5
}
